{
 "cells": [
  {
   "cell_type": "code",
   "execution_count": 53,
   "metadata": {},
   "outputs": [
    {
     "name": "stdout",
     "output_type": "stream",
     "text": [
      "1.0 (878, 3) (433, 3)\n",
      "Accuracy: 1.0\n",
      "Precision: 1.0\n",
      "Recall: 1.0\n"
     ]
    }
   ],
   "source": [
    "import pandas as pd\n",
    "from xgboost import XGBClassifier\n",
    "from sklearn.model_selection import train_test_split\n",
    "from sklearn.metrics import accuracy_score\n",
    "from sklearn.preprocessing import LabelEncoder \n",
    "from sklearn import metrics\n",
    "\n",
    "\n",
    "def target_setting(x):\n",
    "    if x>ACCUMULATED_SCORE :\n",
    "        return 1\n",
    "    return 0\n",
    "\n",
    "ACCUMULATED_SCORE = 240 \n",
    "seed = 7 \n",
    "test_size = 0.33\n",
    "\n",
    "\n",
    "df = pd.read_csv('nba_games20.csv')\n",
    "df = df.drop(df.columns[[0,6,8]],axis=1)\n",
    "\n",
    "\n",
    "df.columns = ['visitor','visitor_points','host','host_points','BoxScore1','BoxScore']\n",
    "#df = df.drop(df.columns[[5]],axis=1)\n",
    "df['total_score'] = df.iloc[:,3] +  df.iloc[:,1 ]\n",
    "df['target'] = df.apply(lambda x: target_setting(x['total_score']), axis=1)\n",
    "df[df['target']==1].count()\n",
    "df[df['total_score']>ACCUMULATED_SCORE]\n",
    "\n",
    "\n",
    "\n",
    "seed = 7 \n",
    "test_size = 0.33\n",
    "\n",
    "\n",
    "label_encoder = LabelEncoder()\n",
    "label_encoder = label_encoder.fit(df['visitor'])\n",
    "label_encoded_visitor = label_encoder.transform(df['visitor'])\n",
    "label_encoded_host  = label_encoder.transform(df['host'])\n",
    "\n",
    "df['visitor_label'] = label_encoded_visitor\n",
    "df['visitor_host'] = label_encoded_host\n",
    "\n",
    "df_final = df.loc[:,['visitor_label','visitor_host','target']]\n",
    "\n",
    "\n",
    "X = df_final.values\n",
    "Y = df_final.loc[:,'target'].values\n",
    "\n",
    "X_train, X_test, y_train, y_test = train_test_split(X, Y, test_size=test_size, random_state=seed)\n",
    "\n",
    "\n",
    "\n",
    "model = XGBClassifier()\n",
    "model.fit(X_train,y_train)\n",
    "y_pred = model.predict(X_test)\n",
    "tmp =metrics.roc_auc_score(y_test, y_pred);\n",
    "print (tmp , X_train.shape , X_test.shape)\n",
    "# Model Accuracy: how often is the classifier correct?\n",
    "print(\"Accuracy:\",metrics.accuracy_score(y_test, y_pred))\n",
    "\n",
    "# Model Precision: what percentage of positive tuples are labeled as such?\n",
    "print(\"Precision:\",metrics.precision_score(y_test, y_pred))\n",
    "\n",
    "# Model Recall: what percentage of positive tuples are labelled as such?\n",
    "print(\"Recall:\",metrics.recall_score(y_test, y_pred))\n",
    "\n"
   ]
  },
  {
   "cell_type": "code",
   "execution_count": null,
   "metadata": {},
   "outputs": [],
   "source": []
  },
  {
   "cell_type": "code",
   "execution_count": null,
   "metadata": {},
   "outputs": [],
   "source": []
  }
 ],
 "metadata": {
  "kernelspec": {
   "display_name": "Python 3",
   "language": "python",
   "name": "python3"
  },
  "language_info": {
   "codemirror_mode": {
    "name": "ipython",
    "version": 3
   },
   "file_extension": ".py",
   "mimetype": "text/x-python",
   "name": "python",
   "nbconvert_exporter": "python",
   "pygments_lexer": "ipython3",
   "version": "3.6.5"
  }
 },
 "nbformat": 4,
 "nbformat_minor": 2
}
