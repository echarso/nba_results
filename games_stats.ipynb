{
 "cells": [
  {
   "cell_type": "code",
   "execution_count": 82,
   "metadata": {},
   "outputs": [
    {
     "data": {
      "text/plain": [
       "0        Tue Oct 17 2017 10:30p\n",
       "4         Wed Oct 18 2017 7:00p\n",
       "11        Wed Oct 18 2017 7:00p\n",
       "15        Fri Oct 20 2017 7:30p\n",
       "21        Fri Oct 20 2017 9:30p\n",
       "23       Fri Oct 20 2017 10:00p\n",
       "37        Sun Oct 22 2017 9:30p\n",
       "39        Mon Oct 23 2017 8:30p\n",
       "45       Mon Oct 23 2017 10:00p\n",
       "48        Tue Oct 24 2017 7:00p\n",
       "50        Tue Oct 24 2017 8:00p\n",
       "51        Tue Oct 24 2017 7:00p\n",
       "70       Fri Oct 27 2017 10:30p\n",
       "72        Fri Oct 27 2017 8:00p\n",
       "84        Sun Oct 29 2017 6:00p\n",
       "85        Sun Oct 29 2017 6:00p\n",
       "92       Mon Oct 30 2017 10:30p\n",
       "94        Mon Oct 30 2017 7:30p\n",
       "99        Tue Oct 31 2017 7:30p\n",
       "104        Wed Nov 1 2017 7:00p\n",
       "105        Wed Nov 1 2017 7:00p\n",
       "106        Wed Nov 1 2017 9:00p\n",
       "114        Wed Nov 1 2017 7:00p\n",
       "121       Fri Nov 3 2017 10:30p\n",
       "125        Fri Nov 3 2017 7:00p\n",
       "128        Fri Nov 3 2017 7:00p\n",
       "130        Sat Nov 4 2017 9:00p\n",
       "134        Sun Nov 5 2017 3:00p\n",
       "135        Sun Nov 5 2017 7:00p\n",
       "147        Tue Nov 7 2017 7:00p\n",
       "                 ...           \n",
       "1071     Thu Mar 22 2018  8:30p\n",
       "1073     Thu Mar 22 2018  8:00p\n",
       "1083     Fri Mar 23 2018  8:30p\n",
       "1092     Sun Mar 25 2018  1:00p\n",
       "1101     Mon Mar 26 2018  7:00p\n",
       "1117     Wed Mar 28 2018  8:00p\n",
       "1131    Fri Mar 30 2018  10:30p\n",
       "1132     Fri Mar 30 2018  8:00p\n",
       "1146      Sun Apr 1 2018  8:00p\n",
       "1154      Tue Apr 3 2018  8:00p\n",
       "1169     Wed Apr 4 2018  10:30p\n",
       "1173      Thu Apr 5 2018  8:00p\n",
       "1176      Thu Apr 5 2018  7:00p\n",
       "1184      Fri Apr 6 2018  7:00p\n",
       "1185      Fri Apr 6 2018  7:00p\n",
       "1190      Sat Apr 7 2018  8:30p\n",
       "1192      Sat Apr 7 2018  3:30p\n",
       "1196      Sun Apr 8 2018  1:00p\n",
       "1198      Sun Apr 8 2018  3:30p\n",
       "1209      Mon Apr 9 2018  7:30p\n",
       "1211     Tue Apr 10 2018  7:30p\n",
       "1224     Wed Apr 11 2018  8:00p\n",
       "1230     Sat Apr 14 2018  8:00p\n",
       "1241     Tue Apr 17 2018  7:00p\n",
       "1245     Thu Apr 19 2018  7:00p\n",
       "1253     Sat Apr 21 2018  5:00p\n",
       "1277     Tue May 1 2018  10:30p\n",
       "1281      Thu May 3 2018  6:00p\n",
       "1296     Wed May 16 2018  9:00p\n",
       "1307     Thu May 31 2018  9:00p\n",
       "Name: date, Length: 248, dtype: object"
      ]
     },
     "execution_count": 82,
     "metadata": {},
     "output_type": "execute_result"
    }
   ],
   "source": [
    "import pandas as pd\n",
    "ACCUMULATED_SCORE = 230\n",
    "\n",
    "\n",
    "def target_setting(x):\n",
    "    if x>ACCUMULATED_SCORE :\n",
    "        return 1\n",
    "    return 0\n",
    "\n",
    "df = pd.read_csv('nba_games20.csv')\n",
    "df.head()\n",
    "df = df.drop(df.columns[[6,8]],axis=1)\n",
    "df.columns = ['date','visitor','visitor_points','host','host_points','BoxScore1','BoxScore']\n",
    "#df = df.drop(df.columns[[5]],axis=1)\n",
    "df['total_score'] = df.iloc[:,4] +  df.iloc[:,2 ]\n",
    "df['target'] = df.apply(lambda x: target_setting(x['total_score']), axis=1)\n",
    "df[df['target']==1].count()\n",
    "df[df['total_score']>ACCUMULATED_SCORE]['date']\n",
    "\n",
    "\n"
   ]
  },
  {
   "cell_type": "code",
   "execution_count": null,
   "metadata": {},
   "outputs": [],
   "source": []
  },
  {
   "cell_type": "code",
   "execution_count": null,
   "metadata": {},
   "outputs": [],
   "source": []
  }
 ],
 "metadata": {
  "kernelspec": {
   "display_name": "Python 3",
   "language": "python",
   "name": "python3"
  },
  "language_info": {
   "codemirror_mode": {
    "name": "ipython",
    "version": 3
   },
   "file_extension": ".py",
   "mimetype": "text/x-python",
   "name": "python",
   "nbconvert_exporter": "python",
   "pygments_lexer": "ipython3",
   "version": "3.6.5"
  }
 },
 "nbformat": 4,
 "nbformat_minor": 2
}
